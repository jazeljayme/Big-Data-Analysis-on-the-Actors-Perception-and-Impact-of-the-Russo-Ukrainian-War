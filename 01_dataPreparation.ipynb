{
 "cells": [
  {
   "cell_type": "code",
   "execution_count": 1,
   "id": "a51acb9b-d2b0-417c-9b32-3b4adcdac6c0",
   "metadata": {
    "execution": {
     "iopub.execute_input": "2022-03-06T01:56:46.083421Z",
     "iopub.status.busy": "2022-03-06T01:56:46.083190Z",
     "iopub.status.idle": "2022-03-06T01:57:19.730880Z",
     "shell.execute_reply": "2022-03-06T01:57:19.729993Z",
     "shell.execute_reply.started": "2022-03-06T01:56:46.083395Z"
    },
    "tags": []
   },
   "outputs": [
    {
     "data": {
      "application/vnd.jupyter.widget-view+json": {
       "model_id": "2f7bdb575c8944b08f0a240de1774f09",
       "version_major": 2,
       "version_minor": 0
      },
      "text/plain": [
       "VBox()"
      ]
     },
     "metadata": {},
     "output_type": "display_data"
    },
    {
     "name": "stdout",
     "output_type": "stream",
     "text": [
      "Starting Spark application\n"
     ]
    },
    {
     "data": {
      "text/html": [
       "<table>\n",
       "<tr><th>ID</th><th>YARN Application ID</th><th>Kind</th><th>State</th><th>Spark UI</th><th>Driver log</th><th>Current session?</th></tr><tr><td>0</td><td>application_1646528662074_0002</td><td>pyspark</td><td>idle</td><td><a target=\"_blank\" href=\"http://ip-172-31-26-37.ec2.internal:20888/proxy/application_1646528662074_0002/\" class=\"emr-proxy-link\" emr-resource=\"j-302ILZMP33FZK\n",
       "\" application-id=\"application_1646528662074_0002\">Link</a></td><td><a target=\"_blank\" href=\"http://ip-172-31-28-247.ec2.internal:8042/node/containerlogs/container_1646528662074_0002_01_000001/livy\" >Link</a></td><td>✔</td></tr></table>"
      ],
      "text/plain": [
       "<IPython.core.display.HTML object>"
      ]
     },
     "metadata": {},
     "output_type": "display_data"
    },
    {
     "data": {
      "application/vnd.jupyter.widget-view+json": {
       "model_id": "",
       "version_major": 2,
       "version_minor": 0
      },
      "text/plain": [
       "FloatProgress(value=0.0, bar_style='info', description='Progress:', layout=Layout(height='25px', width='50%'),…"
      ]
     },
     "metadata": {},
     "output_type": "display_data"
    },
    {
     "name": "stdout",
     "output_type": "stream",
     "text": [
      "SparkSession available as 'spark'.\n"
     ]
    },
    {
     "data": {
      "application/vnd.jupyter.widget-view+json": {
       "model_id": "",
       "version_major": 2,
       "version_minor": 0
      },
      "text/plain": [
       "FloatProgress(value=0.0, bar_style='info', description='Progress:', layout=Layout(height='25px', width='50%'),…"
      ]
     },
     "metadata": {},
     "output_type": "display_data"
    }
   ],
   "source": [
    "from pyspark.sql import SparkSession\n",
    "\n",
    "spark = SparkSession \\\n",
    "        .builder \\\n",
    "        .appName('aws') \\\n",
    "        .getOrCreate()"
   ]
  },
  {
   "cell_type": "markdown",
   "id": "9ce87d6e-132a-4497-9b79-b0d7fdd35c54",
   "metadata": {
    "tags": []
   },
   "source": [
    "# Data retrieval"
   ]
  },
  {
   "cell_type": "markdown",
   "id": "4be2cfa1-547b-4ae0-a329-7e8a6e4aba3b",
   "metadata": {
    "tags": []
   },
   "source": [
    "## Get data from s3"
   ]
  },
  {
   "cell_type": "code",
   "execution_count": 2,
   "id": "6e85489e-87a5-4431-bbf7-bfe7270c7600",
   "metadata": {
    "execution": {
     "iopub.execute_input": "2022-03-05T14:40:45.334477Z",
     "iopub.status.busy": "2022-03-05T14:40:45.334258Z",
     "iopub.status.idle": "2022-03-05T14:40:45.597765Z",
     "shell.execute_reply": "2022-03-05T14:40:45.596877Z",
     "shell.execute_reply.started": "2022-03-05T14:40:45.334454Z"
    },
    "tags": []
   },
   "outputs": [
    {
     "data": {
      "application/vnd.jupyter.widget-view+json": {
       "model_id": "64efe09ceae44e4396b202014a02a40f",
       "version_major": 2,
       "version_minor": 0
      },
      "text/plain": [
       "VBox()"
      ]
     },
     "metadata": {},
     "output_type": "display_data"
    },
    {
     "data": {
      "application/vnd.jupyter.widget-view+json": {
       "model_id": "",
       "version_major": 2,
       "version_minor": 0
      },
      "text/plain": [
       "FloatProgress(value=0.0, bar_style='info', description='Progress:', layout=Layout(height='25px', width='50%'),…"
      ]
     },
     "metadata": {},
     "output_type": "display_data"
    }
   ],
   "source": [
    "from urllib.request import urlopen"
   ]
  },
  {
   "cell_type": "code",
   "execution_count": 3,
   "id": "025f3c2d-b1b4-4d45-8eec-3fc3cfa159df",
   "metadata": {
    "execution": {
     "iopub.execute_input": "2022-03-05T14:40:48.178173Z",
     "iopub.status.busy": "2022-03-05T14:40:48.177952Z",
     "iopub.status.idle": "2022-03-05T14:40:48.951502Z",
     "shell.execute_reply": "2022-03-05T14:40:48.950886Z",
     "shell.execute_reply.started": "2022-03-05T14:40:48.178151Z"
    },
    "tags": []
   },
   "outputs": [
    {
     "data": {
      "application/vnd.jupyter.widget-view+json": {
       "model_id": "b7ae2f505b6848d881b0010a3a6f88de",
       "version_major": 2,
       "version_minor": 0
      },
      "text/plain": [
       "VBox()"
      ]
     },
     "metadata": {},
     "output_type": "display_data"
    },
    {
     "data": {
      "application/vnd.jupyter.widget-view+json": {
       "model_id": "",
       "version_major": 2,
       "version_minor": 0
      },
      "text/plain": [
       "FloatProgress(value=0.0, bar_style='info', description='Progress:', layout=Layout(height='25px', width='50%'),…"
      ]
     },
     "metadata": {},
     "output_type": "display_data"
    }
   ],
   "source": [
    "lines_2014 = sc.textFile('s3://gdelt-open-data/events/2014*')\n",
    "parts_2014 = lines_2014.map(lambda l: l.split('\\t'))\n",
    "\n",
    "lines_2015 = sc.textFile('s3://gdelt-open-data/events/2015*')\n",
    "parts_2015 = lines_2015.map(lambda l: l.split('\\t'))\n",
    "\n",
    "lines_2016 = sc.textFile('s3://gdelt-open-data/events/2016*')\n",
    "parts_2016 = lines_2016.map(lambda l: l.split('\\t'))\n",
    "\n",
    "lines_2017 = sc.textFile('s3://gdelt-open-data/events/2017*')\n",
    "parts_2017 = lines_2017.map(lambda l: l.split('\\t'))\n",
    "\n",
    "lines_2018 = sc.textFile('s3://gdelt-open-data/events/2018*')\n",
    "parts_2018 = lines_2018.map(lambda l: l.split('\\t'))\n",
    "\n",
    "lines_2019 = sc.textFile('s3://gdelt-open-data/events/2019*')\n",
    "parts_2019 = lines_2019.map(lambda l: l.split('\\t'))"
   ]
  },
  {
   "cell_type": "markdown",
   "id": "5a1788ae-5182-46d7-8223-3509d4c78a6b",
   "metadata": {
    "tags": []
   },
   "source": [
    "## Convert RDD into DataFrame"
   ]
  },
  {
   "cell_type": "code",
   "execution_count": 4,
   "id": "744cfbeb-4f51-475f-9c1a-bdce34490728",
   "metadata": {
    "execution": {
     "iopub.execute_input": "2022-03-05T14:40:59.452595Z",
     "iopub.status.busy": "2022-03-05T14:40:59.452367Z",
     "iopub.status.idle": "2022-03-05T14:40:59.709338Z",
     "shell.execute_reply": "2022-03-05T14:40:59.708679Z",
     "shell.execute_reply.started": "2022-03-05T14:40:59.452572Z"
    },
    "tags": []
   },
   "outputs": [
    {
     "data": {
      "application/vnd.jupyter.widget-view+json": {
       "model_id": "ab127a6f412743e6a654dc5d532f7f59",
       "version_major": 2,
       "version_minor": 0
      },
      "text/plain": [
       "VBox()"
      ]
     },
     "metadata": {},
     "output_type": "display_data"
    },
    {
     "data": {
      "application/vnd.jupyter.widget-view+json": {
       "model_id": "",
       "version_major": 2,
       "version_minor": 0
      },
      "text/plain": [
       "FloatProgress(value=0.0, bar_style='info', description='Progress:', layout=Layout(height='25px', width='50%'),…"
      ]
     },
     "metadata": {},
     "output_type": "display_data"
    }
   ],
   "source": [
    "html = urlopen('http://gdeltproject.org/data/lookups/CSV.header.dailyupdates.txt').read().rstrip().decode('utf8')\n",
    "columns = html.split('\\t')"
   ]
  },
  {
   "cell_type": "code",
   "execution_count": 5,
   "id": "abf2b22f-6988-40e8-b653-232a8863623d",
   "metadata": {
    "execution": {
     "iopub.execute_input": "2022-03-05T14:41:02.050171Z",
     "iopub.status.busy": "2022-03-05T14:41:02.049931Z",
     "iopub.status.idle": "2022-03-05T14:41:02.131404Z",
     "shell.execute_reply": "2022-03-05T14:41:02.130590Z",
     "shell.execute_reply.started": "2022-03-05T14:41:02.050145Z"
    },
    "tags": []
   },
   "outputs": [
    {
     "data": {
      "application/vnd.jupyter.widget-view+json": {
       "model_id": "5b82ec07c403488a889ebc71eca3be1f",
       "version_major": 2,
       "version_minor": 0
      },
      "text/plain": [
       "VBox()"
      ]
     },
     "metadata": {},
     "output_type": "display_data"
    },
    {
     "data": {
      "application/vnd.jupyter.widget-view+json": {
       "model_id": "",
       "version_major": 2,
       "version_minor": 0
      },
      "text/plain": [
       "FloatProgress(value=0.0, bar_style='info', description='Progress:', layout=Layout(height='25px', width='50%'),…"
      ]
     },
     "metadata": {},
     "output_type": "display_data"
    }
   ],
   "source": [
    "from functools import reduce\n",
    "from pyspark.sql import DataFrame\n",
    "\n",
    "def union_all(*dfs):\n",
    "    return reduce(DataFrame.unionByName, dfs)"
   ]
  },
  {
   "cell_type": "code",
   "execution_count": 6,
   "id": "c2e4646f-eb3a-464a-854d-b84e995e3792",
   "metadata": {
    "execution": {
     "iopub.execute_input": "2022-03-05T14:41:04.303428Z",
     "iopub.status.busy": "2022-03-05T14:41:04.303195Z",
     "iopub.status.idle": "2022-03-05T14:41:25.687184Z",
     "shell.execute_reply": "2022-03-05T14:41:25.686216Z",
     "shell.execute_reply.started": "2022-03-05T14:41:04.303402Z"
    },
    "tags": []
   },
   "outputs": [
    {
     "data": {
      "application/vnd.jupyter.widget-view+json": {
       "model_id": "e93f3e4b1695447e98118e7b515d4fba",
       "version_major": 2,
       "version_minor": 0
      },
      "text/plain": [
       "VBox()"
      ]
     },
     "metadata": {},
     "output_type": "display_data"
    },
    {
     "data": {
      "application/vnd.jupyter.widget-view+json": {
       "model_id": "",
       "version_major": 2,
       "version_minor": 0
      },
      "text/plain": [
       "FloatProgress(value=0.0, bar_style='info', description='Progress:', layout=Layout(height='25px', width='50%'),…"
      ]
     },
     "metadata": {},
     "output_type": "display_data"
    }
   ],
   "source": [
    "df_2014 = spark.createDataFrame(parts_2014, columns)\n",
    "df_2015 = spark.createDataFrame(parts_2015, columns)\n",
    "df_2016 = spark.createDataFrame(parts_2016, columns)\n",
    "df_2017 = spark.createDataFrame(parts_2017, columns)\n",
    "df_2018 = spark.createDataFrame(parts_2018, columns)\n",
    "df_2019 = spark.createDataFrame(parts_2019, columns)"
   ]
  },
  {
   "cell_type": "markdown",
   "id": "37280c4b-5aea-4c68-ba93-41b729a92979",
   "metadata": {
    "tags": []
   },
   "source": [
    "## Join 2014 and 2019 dataframes"
   ]
  },
  {
   "cell_type": "code",
   "execution_count": 7,
   "id": "f2461d8b-2eb4-4a4c-b44c-b4a953898aae",
   "metadata": {
    "execution": {
     "iopub.execute_input": "2022-03-05T14:41:25.688963Z",
     "iopub.status.busy": "2022-03-05T14:41:25.688697Z",
     "iopub.status.idle": "2022-03-05T14:41:26.553151Z",
     "shell.execute_reply": "2022-03-05T14:41:26.552297Z",
     "shell.execute_reply.started": "2022-03-05T14:41:25.688926Z"
    },
    "tags": []
   },
   "outputs": [
    {
     "data": {
      "application/vnd.jupyter.widget-view+json": {
       "model_id": "7273a18e2a5b4e76bd9c17c01adb9117",
       "version_major": 2,
       "version_minor": 0
      },
      "text/plain": [
       "VBox()"
      ]
     },
     "metadata": {},
     "output_type": "display_data"
    },
    {
     "data": {
      "application/vnd.jupyter.widget-view+json": {
       "model_id": "",
       "version_major": 2,
       "version_minor": 0
      },
      "text/plain": [
       "FloatProgress(value=0.0, bar_style='info', description='Progress:', layout=Layout(height='25px', width='50%'),…"
      ]
     },
     "metadata": {},
     "output_type": "display_data"
    }
   ],
   "source": [
    "my_dic = {}\n",
    "my_dic['df_2014'] = df_2014\n",
    "my_dic['df_2015'] = df_2015\n",
    "my_dic['df_2016'] = df_2016\n",
    "my_dic['df_2017'] = df_2017\n",
    "my_dic['df_2018'] = df_2018\n",
    "my_dic['df_2019'] = df_2019\n",
    "\n",
    "df = union_all(*my_dic.values())"
   ]
  },
  {
   "cell_type": "markdown",
   "id": "523c7c34-0347-4ce5-bd72-349967bd1cb3",
   "metadata": {
    "execution": {
     "iopub.execute_input": "2022-03-05T14:37:15.652103Z",
     "iopub.status.busy": "2022-03-05T14:37:15.651802Z",
     "iopub.status.idle": "2022-03-05T14:37:15.705282Z",
     "shell.execute_reply": "2022-03-05T14:37:15.704635Z",
     "shell.execute_reply.started": "2022-03-05T14:37:15.652074Z"
    },
    "tags": []
   },
   "source": [
    "## Remove rows tagged as <= 2013"
   ]
  },
  {
   "cell_type": "code",
   "execution_count": 8,
   "id": "f37aaa57-1897-4231-a12f-2a561de0c77f",
   "metadata": {
    "execution": {
     "iopub.execute_input": "2022-03-05T14:41:26.555110Z",
     "iopub.status.busy": "2022-03-05T14:41:26.554851Z",
     "iopub.status.idle": "2022-03-05T14:41:27.336147Z",
     "shell.execute_reply": "2022-03-05T14:41:27.335451Z",
     "shell.execute_reply.started": "2022-03-05T14:41:26.555074Z"
    },
    "tags": []
   },
   "outputs": [
    {
     "data": {
      "application/vnd.jupyter.widget-view+json": {
       "model_id": "c47e0b897b744114b48f11e7f023174a",
       "version_major": 2,
       "version_minor": 0
      },
      "text/plain": [
       "VBox()"
      ]
     },
     "metadata": {},
     "output_type": "display_data"
    },
    {
     "data": {
      "application/vnd.jupyter.widget-view+json": {
       "model_id": "",
       "version_major": 2,
       "version_minor": 0
      },
      "text/plain": [
       "FloatProgress(value=0.0, bar_style='info', description='Progress:', layout=Layout(height='25px', width='50%'),…"
      ]
     },
     "metadata": {},
     "output_type": "display_data"
    }
   ],
   "source": [
    "df = df.filter((df.Year >= 2014))"
   ]
  },
  {
   "cell_type": "markdown",
   "id": "c83ea471-cd2d-4382-915a-6327e50f4c5e",
   "metadata": {
    "tags": []
   },
   "source": [
    "## Save as parquet"
   ]
  },
  {
   "cell_type": "code",
   "execution_count": null,
   "id": "c2e48816-c32d-437e-b987-be6f9cf61953",
   "metadata": {
    "execution": {
     "iopub.execute_input": "2022-03-05T14:41:27.337241Z",
     "iopub.status.busy": "2022-03-05T14:41:27.337072Z"
    },
    "tags": []
   },
   "outputs": [
    {
     "data": {
      "application/vnd.jupyter.widget-view+json": {
       "model_id": "968904b26a304e018c162e33942e538e",
       "version_major": 2,
       "version_minor": 0
      },
      "text/plain": [
       "VBox()"
      ]
     },
     "metadata": {},
     "output_type": "display_data"
    },
    {
     "data": {
      "application/vnd.jupyter.widget-view+json": {
       "model_id": "1cf8eede48104682a560d0dd8b6ad727",
       "version_major": 2,
       "version_minor": 0
      },
      "text/plain": [
       "FloatProgress(value=0.0, bar_style='info', description='Progress:', layout=Layout(height='25px', width='50%'),…"
      ]
     },
     "metadata": {},
     "output_type": "display_data"
    }
   ],
   "source": [
    "df.write.parquet('s3://bdcc-lab2-bucket/newer_df.parquet', partitionBy=['Year', 'MonthYear'])"
   ]
  },
  {
   "cell_type": "markdown",
   "id": "b5ec7773-616d-427c-90b6-63c675ce764b",
   "metadata": {},
   "source": [
    "# Check file"
   ]
  },
  {
   "cell_type": "markdown",
   "id": "a0dd1a11-f8e0-480a-9479-f8ada1ed1014",
   "metadata": {
    "tags": []
   },
   "source": [
    "## Print schema"
   ]
  },
  {
   "cell_type": "code",
   "execution_count": 8,
   "id": "81567b1e-8f82-4e63-9e71-8dbf0ecec362",
   "metadata": {
    "execution": {
     "iopub.execute_input": "2022-03-05T10:41:55.520392Z",
     "iopub.status.busy": "2022-03-05T10:41:55.520163Z",
     "iopub.status.idle": "2022-03-05T10:41:55.587279Z",
     "shell.execute_reply": "2022-03-05T10:41:55.586673Z",
     "shell.execute_reply.started": "2022-03-05T10:41:55.520367Z"
    },
    "tags": []
   },
   "outputs": [
    {
     "data": {
      "application/vnd.jupyter.widget-view+json": {
       "model_id": "2b6de7b220244dc5b35d7e4cc8a042c2",
       "version_major": 2,
       "version_minor": 0
      },
      "text/plain": [
       "VBox()"
      ]
     },
     "metadata": {},
     "output_type": "display_data"
    },
    {
     "data": {
      "application/vnd.jupyter.widget-view+json": {
       "model_id": "",
       "version_major": 2,
       "version_minor": 0
      },
      "text/plain": [
       "FloatProgress(value=0.0, bar_style='info', description='Progress:', layout=Layout(height='25px', width='50%'),…"
      ]
     },
     "metadata": {},
     "output_type": "display_data"
    },
    {
     "name": "stdout",
     "output_type": "stream",
     "text": [
      "root\n",
      " |-- GLOBALEVENTID: string (nullable = true)\n",
      " |-- SQLDATE: string (nullable = true)\n",
      " |-- MonthYear: string (nullable = true)\n",
      " |-- Year: string (nullable = true)\n",
      " |-- FractionDate: string (nullable = true)\n",
      " |-- Actor1Code: string (nullable = true)\n",
      " |-- Actor1Name: string (nullable = true)\n",
      " |-- Actor1CountryCode: string (nullable = true)\n",
      " |-- Actor1KnownGroupCode: string (nullable = true)\n",
      " |-- Actor1EthnicCode: string (nullable = true)\n",
      " |-- Actor1Religion1Code: string (nullable = true)\n",
      " |-- Actor1Religion2Code: string (nullable = true)\n",
      " |-- Actor1Type1Code: string (nullable = true)\n",
      " |-- Actor1Type2Code: string (nullable = true)\n",
      " |-- Actor1Type3Code: string (nullable = true)\n",
      " |-- Actor2Code: string (nullable = true)\n",
      " |-- Actor2Name: string (nullable = true)\n",
      " |-- Actor2CountryCode: string (nullable = true)\n",
      " |-- Actor2KnownGroupCode: string (nullable = true)\n",
      " |-- Actor2EthnicCode: string (nullable = true)\n",
      " |-- Actor2Religion1Code: string (nullable = true)\n",
      " |-- Actor2Religion2Code: string (nullable = true)\n",
      " |-- Actor2Type1Code: string (nullable = true)\n",
      " |-- Actor2Type2Code: string (nullable = true)\n",
      " |-- Actor2Type3Code: string (nullable = true)\n",
      " |-- IsRootEvent: string (nullable = true)\n",
      " |-- EventCode: string (nullable = true)\n",
      " |-- EventBaseCode: string (nullable = true)\n",
      " |-- EventRootCode: string (nullable = true)\n",
      " |-- QuadClass: string (nullable = true)\n",
      " |-- GoldsteinScale: string (nullable = true)\n",
      " |-- NumMentions: string (nullable = true)\n",
      " |-- NumSources: string (nullable = true)\n",
      " |-- NumArticles: string (nullable = true)\n",
      " |-- AvgTone: string (nullable = true)\n",
      " |-- Actor1Geo_Type: string (nullable = true)\n",
      " |-- Actor1Geo_FullName: string (nullable = true)\n",
      " |-- Actor1Geo_CountryCode: string (nullable = true)\n",
      " |-- Actor1Geo_ADM1Code: string (nullable = true)\n",
      " |-- Actor1Geo_Lat: string (nullable = true)\n",
      " |-- Actor1Geo_Long: string (nullable = true)\n",
      " |-- Actor1Geo_FeatureID: string (nullable = true)\n",
      " |-- Actor2Geo_Type: string (nullable = true)\n",
      " |-- Actor2Geo_FullName: string (nullable = true)\n",
      " |-- Actor2Geo_CountryCode: string (nullable = true)\n",
      " |-- Actor2Geo_ADM1Code: string (nullable = true)\n",
      " |-- Actor2Geo_Lat: string (nullable = true)\n",
      " |-- Actor2Geo_Long: string (nullable = true)\n",
      " |-- Actor2Geo_FeatureID: string (nullable = true)\n",
      " |-- ActionGeo_Type: string (nullable = true)\n",
      " |-- ActionGeo_FullName: string (nullable = true)\n",
      " |-- ActionGeo_CountryCode: string (nullable = true)\n",
      " |-- ActionGeo_ADM1Code: string (nullable = true)\n",
      " |-- ActionGeo_Lat: string (nullable = true)\n",
      " |-- ActionGeo_Long: string (nullable = true)\n",
      " |-- ActionGeo_FeatureID: string (nullable = true)\n",
      " |-- DATEADDED: string (nullable = true)\n",
      " |-- SOURCEURL: string (nullable = true)"
     ]
    }
   ],
   "source": [
    "df.printSchema()"
   ]
  },
  {
   "cell_type": "markdown",
   "id": "4bf9f0f1-4d48-4d5f-b5c0-2aa1e7b63e75",
   "metadata": {
    "tags": []
   },
   "source": [
    "# View first 5 items"
   ]
  },
  {
   "cell_type": "code",
   "execution_count": 17,
   "id": "33d16ec0-0e02-4ae9-89ff-57ed0583dbda",
   "metadata": {
    "execution": {
     "iopub.execute_input": "2022-03-05T07:34:38.301726Z",
     "iopub.status.busy": "2022-03-05T07:34:38.301493Z",
     "iopub.status.idle": "2022-03-05T07:34:41.588856Z",
     "shell.execute_reply": "2022-03-05T07:34:41.588155Z",
     "shell.execute_reply.started": "2022-03-05T07:34:38.301702Z"
    },
    "tags": []
   },
   "outputs": [
    {
     "data": {
      "application/vnd.jupyter.widget-view+json": {
       "model_id": "9c16c795ca1b4bb2aacc2661e65c5c5e",
       "version_major": 2,
       "version_minor": 0
      },
      "text/plain": [
       "VBox()"
      ]
     },
     "metadata": {},
     "output_type": "display_data"
    },
    {
     "data": {
      "application/vnd.jupyter.widget-view+json": {
       "model_id": "",
       "version_major": 2,
       "version_minor": 0
      },
      "text/plain": [
       "FloatProgress(value=0.0, bar_style='info', description='Progress:', layout=Layout(height='25px', width='50%'),…"
      ]
     },
     "metadata": {},
     "output_type": "display_data"
    },
    {
     "name": "stdout",
     "output_type": "stream",
     "text": [
      "  GLOBALEVENTID  ...                                          SOURCEURL\n",
      "0     813415774  ...  https://www.weyburnreview.com/cn-rail-and-cp-r...\n",
      "1     813415775  ...  http://www.startribune.com/arcelormittal-takes...\n",
      "2     813415776  ...  https://www.weyburnreview.com/cn-rail-and-cp-r...\n",
      "3     813415777  ...  https://www.weyburnreview.com/cn-rail-and-cp-r...\n",
      "4     813415778  ...  https://globalnews.ca/news/4805430/professor-p...\n",
      "\n",
      "[5 rows x 58 columns]"
     ]
    }
   ],
   "source": [
    "import pandas as pd\n",
    "df.limit(5).toPandas()"
   ]
  },
  {
   "cell_type": "markdown",
   "id": "b928aba6-d12b-44ba-b7b0-56475c8fec42",
   "metadata": {
    "jp-MarkdownHeadingCollapsed": true,
    "tags": []
   },
   "source": [
    "# Number of rows"
   ]
  },
  {
   "cell_type": "code",
   "execution_count": 7,
   "id": "d9b03ac1-6663-4daf-bfd7-3651371fc0e9",
   "metadata": {
    "execution": {
     "iopub.execute_input": "2022-03-05T15:36:35.996011Z",
     "iopub.status.busy": "2022-03-05T15:36:35.995803Z",
     "iopub.status.idle": "2022-03-05T15:37:17.783197Z",
     "shell.execute_reply": "2022-03-05T15:37:17.782526Z",
     "shell.execute_reply.started": "2022-03-05T15:36:35.995988Z"
    },
    "tags": []
   },
   "outputs": [
    {
     "data": {
      "application/vnd.jupyter.widget-view+json": {
       "model_id": "74898ab7c7f143fb9189050fe68856ab",
       "version_major": 2,
       "version_minor": 0
      },
      "text/plain": [
       "VBox()"
      ]
     },
     "metadata": {},
     "output_type": "display_data"
    },
    {
     "data": {
      "application/vnd.jupyter.widget-view+json": {
       "model_id": "",
       "version_major": 2,
       "version_minor": 0
      },
      "text/plain": [
       "FloatProgress(value=0.0, bar_style='info', description='Progress:', layout=Layout(height='25px', width='50%'),…"
      ]
     },
     "metadata": {},
     "output_type": "display_data"
    },
    {
     "name": "stdout",
     "output_type": "stream",
     "text": [
      "356198797"
     ]
    }
   ],
   "source": [
    "df.count()"
   ]
  },
  {
   "cell_type": "code",
   "execution_count": 8,
   "id": "acbe882a-515a-40dd-b68c-0c6e78aa0948",
   "metadata": {
    "execution": {
     "iopub.execute_input": "2022-03-05T15:38:39.438805Z",
     "iopub.status.busy": "2022-03-05T15:38:39.438573Z",
     "iopub.status.idle": "2022-03-05T15:39:22.842254Z",
     "shell.execute_reply": "2022-03-05T15:39:22.841572Z",
     "shell.execute_reply.started": "2022-03-05T15:38:39.438781Z"
    }
   },
   "outputs": [
    {
     "data": {
      "application/vnd.jupyter.widget-view+json": {
       "model_id": "d9fbb610b1d74c1a9a20025d6afbc92d",
       "version_major": 2,
       "version_minor": 0
      },
      "text/plain": [
       "VBox()"
      ]
     },
     "metadata": {},
     "output_type": "display_data"
    },
    {
     "data": {
      "application/vnd.jupyter.widget-view+json": {
       "model_id": "",
       "version_major": 2,
       "version_minor": 0
      },
      "text/plain": [
       "FloatProgress(value=0.0, bar_style='info', description='Progress:', layout=Layout(height='25px', width='50%'),…"
      ]
     },
     "metadata": {},
     "output_type": "display_data"
    },
    {
     "name": "stdout",
     "output_type": "stream",
     "text": [
      "+----+--------+\n",
      "|year|   count|\n",
      "+----+--------+\n",
      "|2019|40763553|\n",
      "|2018|61231746|\n",
      "|2017|66269395|\n",
      "|2016|73269882|\n",
      "|2015|66282411|\n",
      "|2014|48381810|\n",
      "+----+--------+"
     ]
    }
   ],
   "source": [
    "from pyspark.sql.functions import desc\n",
    "\n",
    "(newer_df.groupby('year')\n",
    "   .count()\n",
    "   .orderBy(desc('year'))\n",
    "   .show())"
   ]
  }
 ],
 "metadata": {
  "kernelspec": {
   "display_name": "PySpark",
   "language": "",
   "name": "pysparkkernel"
  },
  "language_info": {
   "codemirror_mode": {
    "name": "python",
    "version": 3
   },
   "mimetype": "text/x-python",
   "name": "pyspark",
   "pygments_lexer": "python3"
  }
 },
 "nbformat": 4,
 "nbformat_minor": 5
}
